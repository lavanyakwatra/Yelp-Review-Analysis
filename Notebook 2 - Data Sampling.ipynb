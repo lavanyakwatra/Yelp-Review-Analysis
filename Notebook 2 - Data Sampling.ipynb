{
 "cells": [
  {
   "cell_type": "markdown",
   "metadata": {},
   "source": [
    "<div id=\"container\" style=\"position:relative;\">\n",
    "<div style=\"float:centre\"><h1> Yelp Review Analysis </h1></div>\n",
    "<div style=\"position:relative; float:right\"><img style=\"height:65px\" src =\"https://drive.google.com/uc?export=view&id=1EnB0x-fdqMp6I5iMoEBBEuxB_s7AmE2k\" />\n",
    "</div>\n",
    "<div style=\"position:relative; float:left\"><h4> by Lavanya Kwatra (August, 2020) </h4></div>\n",
    "</div>\n"
   ]
  },
  {
   "cell_type": "markdown",
   "metadata": {},
   "source": [
    "## Data Cleaning\n",
    "\n",
    "Reading in the `sample.csv` created in the previous notebook, we will explore the different columns with respect to our goal to explore the sentiment analysis of reviews and social perception of restaurants in the Yelp community."
   ]
  },
  {
   "cell_type": "code",
   "execution_count": 1,
   "metadata": {},
   "outputs": [],
   "source": [
    "# importing required packages \n",
    "import pandas as pd\n",
    "import numpy as np\n",
    "import matplotlib.pyplot as plt\n",
    "%matplotlib inline\n",
    "import seaborn as sns"
   ]
  },
  {
   "cell_type": "code",
   "execution_count": 2,
   "metadata": {},
   "outputs": [
    {
     "data": {
      "text/plain": [
       "(501320, 43)"
      ]
     },
     "execution_count": 2,
     "metadata": {},
     "output_type": "execute_result"
    }
   ],
   "source": [
    "# reading in data from sample.csv uploaded to S3 bucket on AWS\n",
    "main = pd.read_csv('s3://yelp/sample.csv', index_col=0)\n",
    "main.shape"
   ]
  },
  {
   "cell_type": "code",
   "execution_count": 3,
   "metadata": {},
   "outputs": [],
   "source": [
    "# to view all columns of dataframe\n",
    "pd.set_option('display.max_columns', None)"
   ]
  },
  {
   "cell_type": "code",
   "execution_count": 4,
   "metadata": {},
   "outputs": [
    {
     "data": {
      "text/html": [
       "<div>\n",
       "<style scoped>\n",
       "    .dataframe tbody tr th:only-of-type {\n",
       "        vertical-align: middle;\n",
       "    }\n",
       "\n",
       "    .dataframe tbody tr th {\n",
       "        vertical-align: top;\n",
       "    }\n",
       "\n",
       "    .dataframe thead th {\n",
       "        text-align: right;\n",
       "    }\n",
       "</style>\n",
       "<table border=\"1\" class=\"dataframe\">\n",
       "  <thead>\n",
       "    <tr style=\"text-align: right;\">\n",
       "      <th></th>\n",
       "      <th>review_id</th>\n",
       "      <th>user_id</th>\n",
       "      <th>business_id</th>\n",
       "      <th>stars_x</th>\n",
       "      <th>useful_x</th>\n",
       "      <th>funny_x</th>\n",
       "      <th>cool_x</th>\n",
       "      <th>text</th>\n",
       "      <th>date</th>\n",
       "      <th>name_x</th>\n",
       "      <th>address</th>\n",
       "      <th>city</th>\n",
       "      <th>state</th>\n",
       "      <th>postal_code</th>\n",
       "      <th>latitude</th>\n",
       "      <th>longitude</th>\n",
       "      <th>stars_y</th>\n",
       "      <th>review_count_x</th>\n",
       "      <th>is_open</th>\n",
       "      <th>attributes</th>\n",
       "      <th>categories</th>\n",
       "      <th>hours</th>\n",
       "      <th>name_y</th>\n",
       "      <th>review_count_y</th>\n",
       "      <th>yelping_since</th>\n",
       "      <th>useful_y</th>\n",
       "      <th>funny_y</th>\n",
       "      <th>cool_y</th>\n",
       "      <th>elite</th>\n",
       "      <th>friends</th>\n",
       "      <th>fans</th>\n",
       "      <th>average_stars</th>\n",
       "      <th>compliment_hot</th>\n",
       "      <th>compliment_more</th>\n",
       "      <th>compliment_profile</th>\n",
       "      <th>compliment_cute</th>\n",
       "      <th>compliment_list</th>\n",
       "      <th>compliment_note</th>\n",
       "      <th>compliment_plain</th>\n",
       "      <th>compliment_cool</th>\n",
       "      <th>compliment_funny</th>\n",
       "      <th>compliment_writer</th>\n",
       "      <th>compliment_photos</th>\n",
       "    </tr>\n",
       "  </thead>\n",
       "  <tbody>\n",
       "    <tr>\n",
       "      <th>6836398</th>\n",
       "      <td>TWhVfhK2LvLu8I_0yOzA-w</td>\n",
       "      <td>tcBOEF8KeCZ_sgMIaOWcww</td>\n",
       "      <td>_r-OvLO5wqncmsBCg3i0qw</td>\n",
       "      <td>5</td>\n",
       "      <td>0</td>\n",
       "      <td>0</td>\n",
       "      <td>0</td>\n",
       "      <td>This has been my boyfriend and mine's absolute...</td>\n",
       "      <td>2018-10-06 19:41:58</td>\n",
       "      <td>Pomo Pizzeria - Gilbert</td>\n",
       "      <td>366 N Gilbert Rd, Ste 106</td>\n",
       "      <td>Gilbert</td>\n",
       "      <td>AZ</td>\n",
       "      <td>85234</td>\n",
       "      <td>33.356514</td>\n",
       "      <td>-111.790061</td>\n",
       "      <td>3.5</td>\n",
       "      <td>418</td>\n",
       "      <td>1</td>\n",
       "      <td>{'OutdoorSeating': 'True', 'RestaurantsTableSe...</td>\n",
       "      <td>Restaurants, Pizza, Italian</td>\n",
       "      <td>{'Monday': '0:0-0:0', 'Tuesday': '11:0-21:0', ...</td>\n",
       "      <td>Sami</td>\n",
       "      <td>2</td>\n",
       "      <td>2015-05-15 04:55:28</td>\n",
       "      <td>2</td>\n",
       "      <td>0</td>\n",
       "      <td>0</td>\n",
       "      <td>NaN</td>\n",
       "      <td>None</td>\n",
       "      <td>0</td>\n",
       "      <td>3.40</td>\n",
       "      <td>0</td>\n",
       "      <td>0</td>\n",
       "      <td>0</td>\n",
       "      <td>0</td>\n",
       "      <td>0</td>\n",
       "      <td>0</td>\n",
       "      <td>1</td>\n",
       "      <td>0</td>\n",
       "      <td>0</td>\n",
       "      <td>0</td>\n",
       "      <td>0</td>\n",
       "    </tr>\n",
       "    <tr>\n",
       "      <th>3116144</th>\n",
       "      <td>62OzqwbJcxEVb38-jM_kSA</td>\n",
       "      <td>WxEfKKXhGOwy13RokqSGvw</td>\n",
       "      <td>-av1lZI1JDY_RZN2eTMnWg</td>\n",
       "      <td>5</td>\n",
       "      <td>0</td>\n",
       "      <td>0</td>\n",
       "      <td>0</td>\n",
       "      <td>This is one of my favorite Thai restaruant.  T...</td>\n",
       "      <td>2014-05-27 03:11:36</td>\n",
       "      <td>Salad King Restaurant</td>\n",
       "      <td>340 Yonge Street</td>\n",
       "      <td>Toronto</td>\n",
       "      <td>ON</td>\n",
       "      <td>M5B 1R8</td>\n",
       "      <td>43.657648</td>\n",
       "      <td>-79.381728</td>\n",
       "      <td>3.5</td>\n",
       "      <td>948</td>\n",
       "      <td>1</td>\n",
       "      <td>{'HasTV': 'False', 'RestaurantsTakeOut': 'True...</td>\n",
       "      <td>Thai, Restaurants</td>\n",
       "      <td>{'Monday': '11:0-22:0', 'Tuesday': '11:0-22:0'...</td>\n",
       "      <td>Jenny</td>\n",
       "      <td>12</td>\n",
       "      <td>2014-05-27 02:53:10</td>\n",
       "      <td>1</td>\n",
       "      <td>1</td>\n",
       "      <td>0</td>\n",
       "      <td>NaN</td>\n",
       "      <td>i6ZDJFeypkj6kCvSFjMbyg</td>\n",
       "      <td>0</td>\n",
       "      <td>3.93</td>\n",
       "      <td>0</td>\n",
       "      <td>0</td>\n",
       "      <td>0</td>\n",
       "      <td>0</td>\n",
       "      <td>0</td>\n",
       "      <td>0</td>\n",
       "      <td>0</td>\n",
       "      <td>0</td>\n",
       "      <td>0</td>\n",
       "      <td>0</td>\n",
       "      <td>0</td>\n",
       "    </tr>\n",
       "    <tr>\n",
       "      <th>4420701</th>\n",
       "      <td>1uUp7SatdBbnubccwNNWig</td>\n",
       "      <td>V_fAi3s5pHoecneF_s199Q</td>\n",
       "      <td>3BvoqrkBhqnrCeSnuZY-9w</td>\n",
       "      <td>5</td>\n",
       "      <td>0</td>\n",
       "      <td>0</td>\n",
       "      <td>0</td>\n",
       "      <td>This is my favorite PT's! I live much closer t...</td>\n",
       "      <td>2019-04-27 04:46:30</td>\n",
       "      <td>Pt's Gold</td>\n",
       "      <td>10075 S Eastern Ave</td>\n",
       "      <td>Henderson</td>\n",
       "      <td>NV</td>\n",
       "      <td>89052</td>\n",
       "      <td>36.005099</td>\n",
       "      <td>-115.112716</td>\n",
       "      <td>3.0</td>\n",
       "      <td>70</td>\n",
       "      <td>1</td>\n",
       "      <td>{'RestaurantsTakeOut': 'True', 'BikeParking': ...</td>\n",
       "      <td>American (Traditional), Nightlife, Bars, Sport...</td>\n",
       "      <td>{'Monday': '0:0-0:0', 'Tuesday': '0:0-0:0', 'W...</td>\n",
       "      <td>Charity</td>\n",
       "      <td>4</td>\n",
       "      <td>2016-06-13 03:18:34</td>\n",
       "      <td>0</td>\n",
       "      <td>0</td>\n",
       "      <td>0</td>\n",
       "      <td>NaN</td>\n",
       "      <td>None</td>\n",
       "      <td>0</td>\n",
       "      <td>4.20</td>\n",
       "      <td>0</td>\n",
       "      <td>0</td>\n",
       "      <td>0</td>\n",
       "      <td>0</td>\n",
       "      <td>0</td>\n",
       "      <td>1</td>\n",
       "      <td>0</td>\n",
       "      <td>0</td>\n",
       "      <td>0</td>\n",
       "      <td>0</td>\n",
       "      <td>0</td>\n",
       "    </tr>\n",
       "    <tr>\n",
       "      <th>5678687</th>\n",
       "      <td>DsegcK7Om9H4I5Qra9UCnQ</td>\n",
       "      <td>jqVdSktqINWLxPMYojqaKQ</td>\n",
       "      <td>KXiwq_g2w1Sh4Y7_1nNS1Q</td>\n",
       "      <td>5</td>\n",
       "      <td>0</td>\n",
       "      <td>0</td>\n",
       "      <td>0</td>\n",
       "      <td>Dr. Rosenblitt was my dentist while I lived in...</td>\n",
       "      <td>2009-07-03 14:30:00</td>\n",
       "      <td>Paul J Rosenblitt, DDS - Rosenblitt Dental</td>\n",
       "      <td>526 Superior Ave E, Ste 109</td>\n",
       "      <td>Cleveland</td>\n",
       "      <td>OH</td>\n",
       "      <td>44114</td>\n",
       "      <td>41.500967</td>\n",
       "      <td>-81.690288</td>\n",
       "      <td>5.0</td>\n",
       "      <td>42</td>\n",
       "      <td>1</td>\n",
       "      <td>{'ByAppointmentOnly': 'True', 'AcceptsInsuranc...</td>\n",
       "      <td>Health &amp; Medical, General Dentistry, Dentists</td>\n",
       "      <td>{'Monday': '8:0-18:0', 'Tuesday': '8:0-18:0', ...</td>\n",
       "      <td>Shalini</td>\n",
       "      <td>58</td>\n",
       "      <td>2009-07-02 22:58:48</td>\n",
       "      <td>131</td>\n",
       "      <td>31</td>\n",
       "      <td>15</td>\n",
       "      <td>NaN</td>\n",
       "      <td>YCO8mfUEf26Lko4jWXcM1Q, qM-d89XwxKeG6iZfOnOhSw...</td>\n",
       "      <td>1</td>\n",
       "      <td>3.15</td>\n",
       "      <td>0</td>\n",
       "      <td>0</td>\n",
       "      <td>0</td>\n",
       "      <td>0</td>\n",
       "      <td>0</td>\n",
       "      <td>2</td>\n",
       "      <td>2</td>\n",
       "      <td>1</td>\n",
       "      <td>1</td>\n",
       "      <td>1</td>\n",
       "      <td>0</td>\n",
       "    </tr>\n",
       "    <tr>\n",
       "      <th>7320706</th>\n",
       "      <td>ibkd8ceZcouF_vGVkX-7Vw</td>\n",
       "      <td>IkNg0F3M5KKCVn5ioXbztg</td>\n",
       "      <td>4vDffQ7eSQ7n39cyroOSKQ</td>\n",
       "      <td>5</td>\n",
       "      <td>0</td>\n",
       "      <td>0</td>\n",
       "      <td>0</td>\n",
       "      <td>Loved the atmosphere and enjoyed my evening he...</td>\n",
       "      <td>2017-11-24 00:51:53</td>\n",
       "      <td>Crave Dessert Bar</td>\n",
       "      <td>500 W 5th St, Ste 120</td>\n",
       "      <td>Charlotte</td>\n",
       "      <td>NC</td>\n",
       "      <td>28202</td>\n",
       "      <td>35.231755</td>\n",
       "      <td>-80.845693</td>\n",
       "      <td>3.5</td>\n",
       "      <td>535</td>\n",
       "      <td>1</td>\n",
       "      <td>{'RestaurantsTakeOut': 'True', 'RestaurantsAtt...</td>\n",
       "      <td>Hookah Bars, Restaurants, Nightlife, Bars, Lou...</td>\n",
       "      <td>{'Monday': '0:0-0:0', 'Tuesday': '17:0-2:0', '...</td>\n",
       "      <td>Lynda</td>\n",
       "      <td>10</td>\n",
       "      <td>2014-11-03 13:05:30</td>\n",
       "      <td>2</td>\n",
       "      <td>2</td>\n",
       "      <td>0</td>\n",
       "      <td>NaN</td>\n",
       "      <td>None</td>\n",
       "      <td>1</td>\n",
       "      <td>4.00</td>\n",
       "      <td>0</td>\n",
       "      <td>0</td>\n",
       "      <td>0</td>\n",
       "      <td>0</td>\n",
       "      <td>0</td>\n",
       "      <td>0</td>\n",
       "      <td>0</td>\n",
       "      <td>0</td>\n",
       "      <td>0</td>\n",
       "      <td>0</td>\n",
       "      <td>0</td>\n",
       "    </tr>\n",
       "  </tbody>\n",
       "</table>\n",
       "</div>"
      ],
      "text/plain": [
       "                      review_id                 user_id  \\\n",
       "6836398  TWhVfhK2LvLu8I_0yOzA-w  tcBOEF8KeCZ_sgMIaOWcww   \n",
       "3116144  62OzqwbJcxEVb38-jM_kSA  WxEfKKXhGOwy13RokqSGvw   \n",
       "4420701  1uUp7SatdBbnubccwNNWig  V_fAi3s5pHoecneF_s199Q   \n",
       "5678687  DsegcK7Om9H4I5Qra9UCnQ  jqVdSktqINWLxPMYojqaKQ   \n",
       "7320706  ibkd8ceZcouF_vGVkX-7Vw  IkNg0F3M5KKCVn5ioXbztg   \n",
       "\n",
       "                    business_id  stars_x  useful_x  funny_x  cool_x  \\\n",
       "6836398  _r-OvLO5wqncmsBCg3i0qw        5         0        0       0   \n",
       "3116144  -av1lZI1JDY_RZN2eTMnWg        5         0        0       0   \n",
       "4420701  3BvoqrkBhqnrCeSnuZY-9w        5         0        0       0   \n",
       "5678687  KXiwq_g2w1Sh4Y7_1nNS1Q        5         0        0       0   \n",
       "7320706  4vDffQ7eSQ7n39cyroOSKQ        5         0        0       0   \n",
       "\n",
       "                                                      text  \\\n",
       "6836398  This has been my boyfriend and mine's absolute...   \n",
       "3116144  This is one of my favorite Thai restaruant.  T...   \n",
       "4420701  This is my favorite PT's! I live much closer t...   \n",
       "5678687  Dr. Rosenblitt was my dentist while I lived in...   \n",
       "7320706  Loved the atmosphere and enjoyed my evening he...   \n",
       "\n",
       "                        date                                      name_x  \\\n",
       "6836398  2018-10-06 19:41:58                     Pomo Pizzeria - Gilbert   \n",
       "3116144  2014-05-27 03:11:36                       Salad King Restaurant   \n",
       "4420701  2019-04-27 04:46:30                                   Pt's Gold   \n",
       "5678687  2009-07-03 14:30:00  Paul J Rosenblitt, DDS - Rosenblitt Dental   \n",
       "7320706  2017-11-24 00:51:53                           Crave Dessert Bar   \n",
       "\n",
       "                             address       city state postal_code   latitude  \\\n",
       "6836398    366 N Gilbert Rd, Ste 106    Gilbert    AZ       85234  33.356514   \n",
       "3116144             340 Yonge Street    Toronto    ON     M5B 1R8  43.657648   \n",
       "4420701          10075 S Eastern Ave  Henderson    NV       89052  36.005099   \n",
       "5678687  526 Superior Ave E, Ste 109  Cleveland    OH       44114  41.500967   \n",
       "7320706        500 W 5th St, Ste 120  Charlotte    NC       28202  35.231755   \n",
       "\n",
       "          longitude  stars_y  review_count_x  is_open  \\\n",
       "6836398 -111.790061      3.5             418        1   \n",
       "3116144  -79.381728      3.5             948        1   \n",
       "4420701 -115.112716      3.0              70        1   \n",
       "5678687  -81.690288      5.0              42        1   \n",
       "7320706  -80.845693      3.5             535        1   \n",
       "\n",
       "                                                attributes  \\\n",
       "6836398  {'OutdoorSeating': 'True', 'RestaurantsTableSe...   \n",
       "3116144  {'HasTV': 'False', 'RestaurantsTakeOut': 'True...   \n",
       "4420701  {'RestaurantsTakeOut': 'True', 'BikeParking': ...   \n",
       "5678687  {'ByAppointmentOnly': 'True', 'AcceptsInsuranc...   \n",
       "7320706  {'RestaurantsTakeOut': 'True', 'RestaurantsAtt...   \n",
       "\n",
       "                                                categories  \\\n",
       "6836398                        Restaurants, Pizza, Italian   \n",
       "3116144                                  Thai, Restaurants   \n",
       "4420701  American (Traditional), Nightlife, Bars, Sport...   \n",
       "5678687      Health & Medical, General Dentistry, Dentists   \n",
       "7320706  Hookah Bars, Restaurants, Nightlife, Bars, Lou...   \n",
       "\n",
       "                                                     hours   name_y  \\\n",
       "6836398  {'Monday': '0:0-0:0', 'Tuesday': '11:0-21:0', ...     Sami   \n",
       "3116144  {'Monday': '11:0-22:0', 'Tuesday': '11:0-22:0'...    Jenny   \n",
       "4420701  {'Monday': '0:0-0:0', 'Tuesday': '0:0-0:0', 'W...  Charity   \n",
       "5678687  {'Monday': '8:0-18:0', 'Tuesday': '8:0-18:0', ...  Shalini   \n",
       "7320706  {'Monday': '0:0-0:0', 'Tuesday': '17:0-2:0', '...    Lynda   \n",
       "\n",
       "         review_count_y        yelping_since  useful_y  funny_y  cool_y elite  \\\n",
       "6836398               2  2015-05-15 04:55:28         2        0       0   NaN   \n",
       "3116144              12  2014-05-27 02:53:10         1        1       0   NaN   \n",
       "4420701               4  2016-06-13 03:18:34         0        0       0   NaN   \n",
       "5678687              58  2009-07-02 22:58:48       131       31      15   NaN   \n",
       "7320706              10  2014-11-03 13:05:30         2        2       0   NaN   \n",
       "\n",
       "                                                   friends  fans  \\\n",
       "6836398                                               None     0   \n",
       "3116144                             i6ZDJFeypkj6kCvSFjMbyg     0   \n",
       "4420701                                               None     0   \n",
       "5678687  YCO8mfUEf26Lko4jWXcM1Q, qM-d89XwxKeG6iZfOnOhSw...     1   \n",
       "7320706                                               None     1   \n",
       "\n",
       "         average_stars  compliment_hot  compliment_more  compliment_profile  \\\n",
       "6836398           3.40               0                0                   0   \n",
       "3116144           3.93               0                0                   0   \n",
       "4420701           4.20               0                0                   0   \n",
       "5678687           3.15               0                0                   0   \n",
       "7320706           4.00               0                0                   0   \n",
       "\n",
       "         compliment_cute  compliment_list  compliment_note  compliment_plain  \\\n",
       "6836398                0                0                0                 1   \n",
       "3116144                0                0                0                 0   \n",
       "4420701                0                0                1                 0   \n",
       "5678687                0                0                2                 2   \n",
       "7320706                0                0                0                 0   \n",
       "\n",
       "         compliment_cool  compliment_funny  compliment_writer  \\\n",
       "6836398                0                 0                  0   \n",
       "3116144                0                 0                  0   \n",
       "4420701                0                 0                  0   \n",
       "5678687                1                 1                  1   \n",
       "7320706                0                 0                  0   \n",
       "\n",
       "         compliment_photos  \n",
       "6836398                  0  \n",
       "3116144                  0  \n",
       "4420701                  0  \n",
       "5678687                  0  \n",
       "7320706                  0  "
      ]
     },
     "execution_count": 4,
     "metadata": {},
     "output_type": "execute_result"
    }
   ],
   "source": [
    "# viewing the head of the dataframe\n",
    "main.head()"
   ]
  },
  {
   "cell_type": "markdown",
   "metadata": {},
   "source": [
    "## Data Dictionary \n",
    "\n",
    "From the extensive Yelp documentation and based on the way the columns were read into this dataframe, let's explore what each of these columns convey.\n",
    "\n",
    "#### business.json columns: \n",
    "Contains business data including location data, attributes, and categories.\n",
    "\n",
    "1. business_id = the unique 22 character business id, as a string\n",
    "2. address = the full address of the business, as a string\n",
    "3. city = the city where the business is located, as a string\n",
    "4. state = the 2 character state code where the business is located, as a string\n",
    "5. postal_code = the postal code of the business, as a string\n",
    "6. latitude = geographical coordinates, as a float\n",
    "7. longitude = geographical coordinates, as a float\n",
    "8. stars_y = the rating of the business rounded to half-stars, as a float\n",
    "9. review_count_x = the number of reviews received by the business, as an integer\n",
    "10. is_open = 0 or 1 for whether the business is closed or open, as an integer\n",
    "11. attributes = an object of the key business attributes & their values, where some values are objects themselves\n",
    "12. categories = an array of strings of business categories\n",
    "13. hours = an object of key days to value hours using a 24 hour format\n",
    "   \n",
    "#### review.json columns:\n",
    "Contains full review text data including the user_id that wrote the review and the business_id the review is written for.\n",
    "\n",
    "1. review_id = the unique 22 character review id, as a string\n",
    "2. user_id = the unique 22 character user id, as a string\n",
    "3. business_id = the unique 22 character business id, as a string\n",
    "4. stars_x = star rating with the corresponding review, as an integer\n",
    "5. date = the date the review was posted, in the format YYYY-MM-DD, as a string\n",
    "6. text = the review itself, as a string\n",
    "7. useful_x = the number of useful votes received by the review, as an integer\n",
    "8. funny_x = the number of funny votes received by the review, as an integer\n",
    "9. cool_x = the number of cool votes received by the review, as an integer\n",
    "\n",
    "#### user.json columns:\n",
    "User data including the user's friend mapping and all the metadata associated with the user.\n",
    "\n",
    "1. user_id = the unique 22 character user id, as a string\n",
    "2. name_y = the name of the user, as a string\n",
    "3. review_count_y = the number of reviews written by the user, as an integer\n",
    "4. yelping_since = the date when the user joined Yelp, in the format YYYY-MM-DD, as a string\n",
    "5. friends = the strings od user's friends' unique user_ids, as an array\n",
    "6. useful_y = the number of useful votes sent by the user, as an integer\n",
    "7. funny_y = the number of funny votes sent by the user, as an integer\n",
    "8. cool_y = the number of cool votes sent by the user, as an integer\n",
    "9. fans = the number of fans the user has, as an integer\n",
    "10. elite = the years the user was elite, as an array\n",
    "11. average_stars = the average rating of all reviews written by the user, as a float\n",
    "12. compliment_hot = the number of \"hot\" compliments received by the user, as an integer\n",
    "13. compliment_more = the number of \"more\" compliments received by the user, as an integer\n",
    "14. compliment_profile = the number of \"profile\" compliments received by the user, as an integer\n",
    "15. compliment_cute = the number of \"cute\" compliments received by the user, as an integer\n",
    "16. compliment_list = the number of \"list\" compliments received by the user, as an integer\n",
    "17. compliment_note = the number of \"note\" compliments received by the user, as an integer\n",
    "18. compliment_plain = the number of \"plain\" compliments received by the user, as an integer\n",
    "19. compliment_cool = the number of \"cool\" compliments received by the user, as an integer\n",
    "20. compliment_funny = the number of \"funny\" compliments received by the user, as an integer\n",
    "21. compliment_writer = the number of \"writer\" compliments received by the user, as an integer\n",
    "22. compliment_photo = the number of \"photo\" compliments received by the user, as an integer"
   ]
  },
  {
   "cell_type": "code",
   "execution_count": 9,
   "metadata": {},
   "outputs": [],
   "source": [
    "# resetting the index to drop the unnamed column\n",
    "main.reset_index(drop=True, inplace=True)"
   ]
  },
  {
   "cell_type": "code",
   "execution_count": 10,
   "metadata": {
    "scrolled": true
   },
   "outputs": [
    {
     "name": "stdout",
     "output_type": "stream",
     "text": [
      "<class 'pandas.core.frame.DataFrame'>\n",
      "RangeIndex: 501320 entries, 0 to 501319\n",
      "Data columns (total 43 columns):\n",
      " #   Column              Non-Null Count   Dtype  \n",
      "---  ------              --------------   -----  \n",
      " 0   review_id           501320 non-null  object \n",
      " 1   user_id             501320 non-null  object \n",
      " 2   business_id         501320 non-null  object \n",
      " 3   stars_x             501320 non-null  int64  \n",
      " 4   useful_x            501320 non-null  int64  \n",
      " 5   funny_x             501320 non-null  int64  \n",
      " 6   cool_x              501320 non-null  int64  \n",
      " 7   text                501320 non-null  object \n",
      " 8   date                501320 non-null  object \n",
      " 9   name_x              501320 non-null  object \n",
      " 10  address             493684 non-null  object \n",
      " 11  city                501320 non-null  object \n",
      " 12  state               501320 non-null  object \n",
      " 13  postal_code         501008 non-null  object \n",
      " 14  latitude            501320 non-null  float64\n",
      " 15  longitude           501320 non-null  float64\n",
      " 16  stars_y             501320 non-null  float64\n",
      " 17  review_count_x      501320 non-null  int64  \n",
      " 18  is_open             501320 non-null  int64  \n",
      " 19  attributes          486170 non-null  object \n",
      " 20  categories          501193 non-null  object \n",
      " 21  hours               467327 non-null  object \n",
      " 22  name_y              501319 non-null  object \n",
      " 23  review_count_y      501320 non-null  int64  \n",
      " 24  yelping_since       501320 non-null  object \n",
      " 25  useful_y            501320 non-null  int64  \n",
      " 26  funny_y             501320 non-null  int64  \n",
      " 27  cool_y              501320 non-null  int64  \n",
      " 28  elite               110290 non-null  object \n",
      " 29  friends             501320 non-null  object \n",
      " 30  fans                501320 non-null  int64  \n",
      " 31  average_stars       501320 non-null  float64\n",
      " 32  compliment_hot      501320 non-null  int64  \n",
      " 33  compliment_more     501320 non-null  int64  \n",
      " 34  compliment_profile  501320 non-null  int64  \n",
      " 35  compliment_cute     501320 non-null  int64  \n",
      " 36  compliment_list     501320 non-null  int64  \n",
      " 37  compliment_note     501320 non-null  int64  \n",
      " 38  compliment_plain    501320 non-null  int64  \n",
      " 39  compliment_cool     501320 non-null  int64  \n",
      " 40  compliment_funny    501320 non-null  int64  \n",
      " 41  compliment_writer   501320 non-null  int64  \n",
      " 42  compliment_photos   501320 non-null  int64  \n",
      "dtypes: float64(4), int64(22), object(17)\n",
      "memory usage: 164.5+ MB\n"
     ]
    }
   ],
   "source": [
    "# Exploring columns in the dataframe\n",
    "main.info()"
   ]
  },
  {
   "cell_type": "code",
   "execution_count": 11,
   "metadata": {},
   "outputs": [
    {
     "data": {
      "text/plain": [
       "review_id              object\n",
       "user_id                object\n",
       "business_id            object\n",
       "stars_x                 int64\n",
       "useful_x                int64\n",
       "funny_x                 int64\n",
       "cool_x                  int64\n",
       "text                   object\n",
       "date                   object\n",
       "name_x                 object\n",
       "address                object\n",
       "city                   object\n",
       "state                  object\n",
       "postal_code            object\n",
       "latitude              float64\n",
       "longitude             float64\n",
       "stars_y               float64\n",
       "review_count_x          int64\n",
       "is_open                 int64\n",
       "attributes             object\n",
       "categories             object\n",
       "hours                  object\n",
       "name_y                 object\n",
       "review_count_y          int64\n",
       "yelping_since          object\n",
       "useful_y                int64\n",
       "funny_y                 int64\n",
       "cool_y                  int64\n",
       "elite                  object\n",
       "friends                object\n",
       "fans                    int64\n",
       "average_stars         float64\n",
       "compliment_hot          int64\n",
       "compliment_more         int64\n",
       "compliment_profile      int64\n",
       "compliment_cute         int64\n",
       "compliment_list         int64\n",
       "compliment_note         int64\n",
       "compliment_plain        int64\n",
       "compliment_cool         int64\n",
       "compliment_funny        int64\n",
       "compliment_writer       int64\n",
       "compliment_photos       int64\n",
       "dtype: object"
      ]
     },
     "execution_count": 11,
     "metadata": {},
     "output_type": "execute_result"
    }
   ],
   "source": [
    "# exploring the datatypes of each column\n",
    "main.dtypes"
   ]
  },
  {
   "cell_type": "markdown",
   "metadata": {},
   "source": [
    "## Preliminary Filtering & Feature Engineering:"
   ]
  },
  {
   "cell_type": "markdown",
   "metadata": {},
   "source": [
    "Based on the column & data type exploration above, the following preliminary cleaning steps are chosen:\n",
    "\n",
    "- Only keep datapoints for businesses that are still open\n",
    "- String cleaning operations: removing punctuation, removing digits and convert all text to lowercase \n",
    "- Drop column `elite` since more than 50% of the data is missing (for future purposes, this is likely important to explore with respect to user lifespan or status)\n",
    "- Drop the single missing value in `name_y` column\n",
    "- Filter through categories to only retain reviews for businesses with the word \"Restaurants\" in the category tags\n",
    "- Drop `hours` column about business hours, this is not relevant at the moment for our sentiment classification\n",
    "- Convert `yelping_since` and `date` to datetime objects from string, then calculate the age of the user at the time of writing the review,  `review_user_age` and extracting the number of days as `user_lifespan` \n",
    "- The aggregated mean of `user_lifespan` grouped by `user_id` is the average `user_lifespan` metric that can be used to evaluate how long the user has been active on Yelp. However, this is an aggregated mean grouped by user and will be relevant for clustering. Therefore, we can ignore this for our classification model.\n",
    "- Rename columns to separate into user, business & review attributes for further steps\n",
    "- Drop 10 compliment attribute columns that correspond to each user since the explanation is not explicit (for future purposes, explore the attributes and how they are calculated)\n",
    "- Select a random representative sample of the main dataframe\n",
    "- Create a function to select relevant columns & generate 5 separate dataframes from the main"
   ]
  },
  {
   "cell_type": "markdown",
   "metadata": {},
   "source": [
    "Citations for Preprocessing Steps:\n",
    "1. https://stackoverflow.com/questions/265960/best-way-to-strip-punctuation-from-a-string\n",
    "2. https://stackoverflow.com/questions/54188779/how-to-convert-timedelta64-to-number-of-days-integer\n",
    "3. https://stackoverflow.com/questions/30482071/how-to-calculate-mean-values-grouped-on-another-column-in-pandas\n",
    "4. https://stackoverflow.com/questions/34682828/extracting-specific-selected-columns-to-new-dataframe-as-a-copy"
   ]
  },
  {
   "cell_type": "code",
   "execution_count": 18,
   "metadata": {},
   "outputs": [
    {
     "data": {
      "image/png": "[encoded data removed]",
      "text/plain": [
       "<Figure size 432x288 with 1 Axes>"
      ]
     },
     "metadata": {
      "needs_background": "light"
     },
     "output_type": "display_data"
    },
    {
     "data": {
      "text/plain": [
       "1    429964\n",
       "0     71356\n",
       "Name: is_open, dtype: int64"
      ]
     },
     "metadata": {},
     "output_type": "display_data"
    }
   ],
   "source": [
    "# visualizing the proportion of open and closed businesses\n",
    "plt.figure()\n",
    "main['is_open'].value_counts().plot(kind='barh')\n",
    "plt.show()\n",
    "display(main['is_open'].value_counts())"
   ]
  },
  {
   "cell_type": "code",
   "execution_count": 19,
   "metadata": {},
   "outputs": [],
   "source": [
    "# dropping reviews for closed businesses\n",
    "main = main[main['is_open']==True]"
   ]
  },
  {
   "cell_type": "code",
   "execution_count": 20,
   "metadata": {},
   "outputs": [
    {
     "data": {
      "text/plain": [
       "(429964, 43)"
      ]
     },
     "execution_count": 20,
     "metadata": {},
     "output_type": "execute_result"
    }
   ],
   "source": [
    "# checking to confirm\n",
    "main.shape"
   ]
  },
  {
   "cell_type": "code",
   "execution_count": 21,
   "metadata": {},
   "outputs": [],
   "source": [
    "# dropping the is_open column as it is not relevant anymore\n",
    "main.drop(columns=['is_open'], inplace=True)"
   ]
  },
  {
   "cell_type": "code",
   "execution_count": 22,
   "metadata": {},
   "outputs": [],
   "source": [
    "# import package for string cleaning operations\n",
    "import string"
   ]
  },
  {
   "cell_type": "code",
   "execution_count": 23,
   "metadata": {},
   "outputs": [],
   "source": [
    "# refer to stackoverflow link for string cleaning \n",
    "# removing all special characters, digits and converting to lower case\n",
    "\n",
    "main['text'] = main['text'].str.translate(str.maketrans('', '', string.punctuation))\n",
    "main['text'] = main['text'].str.translate(str.maketrans('', '', string.digits))\n",
    "main['text'] = main['text'].str.lower()"
   ]
  },
  {
   "cell_type": "code",
   "execution_count": 24,
   "metadata": {},
   "outputs": [
    {
     "data": {
      "text/plain": [
       "0         this has been my boyfriend and mines absolute ...\n",
       "1         this is one of my favorite thai restaruant  th...\n",
       "2         this is my favorite pts i live much closer to ...\n",
       "3         dr rosenblitt was my dentist while i lived in ...\n",
       "4         loved the atmosphere and enjoyed my evening he...\n",
       "                                ...                        \n",
       "501315    amazing best thai food delicious and fresh gre...\n",
       "501316    the day club entrance is on nd floor of cosmop...\n",
       "501317    i really wanted to love this place my boyfrien...\n",
       "501318    i got a coupon in the mail so i gave this salo...\n",
       "501319    we arrived as a group of  and i think we order...\n",
       "Name: text, Length: 429964, dtype: object"
      ]
     },
     "execution_count": 24,
     "metadata": {},
     "output_type": "execute_result"
    }
   ],
   "source": [
    "# just to check..\n",
    "main['text']"
   ]
  },
  {
   "cell_type": "code",
   "execution_count": 26,
   "metadata": {},
   "outputs": [
    {
     "data": {
      "text/plain": [
       "0.7874008056488451"
      ]
     },
     "execution_count": 26,
     "metadata": {},
     "output_type": "execute_result"
    }
   ],
   "source": [
    "# checking the proportion of missing values for the elite column\n",
    "main['elite'].isna().sum()/len(main['elite'])"
   ]
  },
  {
   "cell_type": "code",
   "execution_count": 27,
   "metadata": {},
   "outputs": [],
   "source": [
    "# dropping this column since it barely has any information about the users\n",
    "# later on, may be useful to explore which datapoints have values \n",
    "main.drop(columns=['elite'], inplace=True)"
   ]
  },
  {
   "cell_type": "code",
   "execution_count": 28,
   "metadata": {},
   "outputs": [],
   "source": [
    "# dropping 1 missing row\n",
    "main['name_y'].dropna(inplace=True)"
   ]
  },
  {
   "cell_type": "code",
   "execution_count": 29,
   "metadata": {},
   "outputs": [
    {
     "data": {
      "text/plain": [
       "0                               Restaurants, Pizza, Italian\n",
       "1                                         Thai, Restaurants\n",
       "2         American (Traditional), Nightlife, Bars, Sport...\n",
       "3             Health & Medical, General Dentistry, Dentists\n",
       "4         Hookah Bars, Restaurants, Nightlife, Bars, Lou...\n",
       "                                ...                        \n",
       "501315      Thai, Seafood, Restaurants, Vegetarian, Noodles\n",
       "501316    Arts & Entertainment, Nightlife, Dance Clubs, ...\n",
       "501317                    Japanese, Restaurants, Sushi Bars\n",
       "501318    Eyelash Service, Tanning, Beauty & Spas, Day S...\n",
       "501319               Japanese, Chinese, Korean, Restaurants\n",
       "Name: categories, Length: 429964, dtype: object"
      ]
     },
     "execution_count": 29,
     "metadata": {},
     "output_type": "execute_result"
    }
   ],
   "source": [
    "# exploring the categories column \n",
    "main['categories']"
   ]
  },
  {
   "cell_type": "markdown",
   "metadata": {},
   "source": [
    "This is a column of string objects separated by \" ,\" and if there is the word \"Restaurants\" in any order, then the business is a restaurant. The concept is, all places that serve food are restaurants, but not all places that serve food are Italian restaurants. "
   ]
  },
  {
   "cell_type": "code",
   "execution_count": 30,
   "metadata": {},
   "outputs": [],
   "source": [
    "# creating a column to filter for only restaurants\n",
    "main['is_restaurant'] = main['categories'].str.contains('Restaurants')"
   ]
  },
  {
   "cell_type": "code",
   "execution_count": 31,
   "metadata": {},
   "outputs": [
    {
     "data": {
      "image/png": "[encoded data removed]",
      "text/plain": [
       "<Figure size 432x288 with 1 Axes>"
      ]
     },
     "metadata": {
      "needs_background": "light"
     },
     "output_type": "display_data"
    },
    {
     "data": {
      "text/plain": [
       "True     263840\n",
       "False    166001\n",
       "Name: is_restaurant, dtype: int64"
      ]
     },
     "metadata": {},
     "output_type": "display_data"
    }
   ],
   "source": [
    "# visualizing the proportion of restaurants\n",
    "plt.figure()\n",
    "main['is_restaurant'].value_counts().plot(kind='barh')\n",
    "plt.show()\n",
    "display(main['is_restaurant'].value_counts())"
   ]
  },
  {
   "cell_type": "code",
   "execution_count": 32,
   "metadata": {},
   "outputs": [],
   "source": [
    "# dropping businesses that are not restaurants\n",
    "main = main[main['is_restaurant']==True]"
   ]
  },
  {
   "cell_type": "code",
   "execution_count": 33,
   "metadata": {},
   "outputs": [],
   "source": [
    "# dropping the column is_restaurant as it has been used to filter the data\n",
    "main.drop(columns=['is_restaurant'], inplace=True)"
   ]
  },
  {
   "cell_type": "code",
   "execution_count": 34,
   "metadata": {},
   "outputs": [],
   "source": [
    "# alternate method for filtering\n",
    "# restaurants = main.loc[main['categories'].str.contains('^.*Restaurants.*')]"
   ]
  },
  {
   "cell_type": "code",
   "execution_count": 35,
   "metadata": {},
   "outputs": [],
   "source": [
    "# attempt to unwrap dictionary of attributes \n",
    "# but the data needs to be converted from json format before this step\n",
    "# main['attributes'] = main['attributes'].apply (lambda x : dict(eval(x)))\n",
    "# attributes = main['attributes'].apply(pd.Series)"
   ]
  },
  {
   "cell_type": "code",
   "execution_count": 36,
   "metadata": {},
   "outputs": [
    {
     "data": {
      "text/plain": [
       "0         {'Monday': '0:0-0:0', 'Tuesday': '11:0-21:0', ...\n",
       "1         {'Monday': '11:0-22:0', 'Tuesday': '11:0-22:0'...\n",
       "2         {'Monday': '0:0-0:0', 'Tuesday': '0:0-0:0', 'W...\n",
       "4         {'Monday': '0:0-0:0', 'Tuesday': '17:0-2:0', '...\n",
       "6         {'Tuesday': '11:0-21:0', 'Wednesday': '11:0-21...\n",
       "                                ...                        \n",
       "501311    {'Monday': '17:0-22:0', 'Tuesday': '17:0-22:0'...\n",
       "501313    {'Monday': '0:0-0:0', 'Tuesday': '17:30-22:0',...\n",
       "501315    {'Monday': '0:0-0:0', 'Tuesday': '12:0-21:0', ...\n",
       "501317    {'Monday': '11:30-23:0', 'Tuesday': '11:30-23:...\n",
       "501319    {'Monday': '11:30-23:0', 'Tuesday': '11:30-23:...\n",
       "Name: hours, Length: 263840, dtype: object"
      ]
     },
     "execution_count": 36,
     "metadata": {},
     "output_type": "execute_result"
    }
   ],
   "source": [
    "# exploring the business hours column \n",
    "main['hours']"
   ]
  },
  {
   "cell_type": "code",
   "execution_count": 37,
   "metadata": {},
   "outputs": [],
   "source": [
    "# dropping this column as it does not seem relevant in our sentiment classifier\n",
    "main.drop(columns=['hours'], inplace=True)"
   ]
  },
  {
   "cell_type": "code",
   "execution_count": 38,
   "metadata": {},
   "outputs": [],
   "source": [
    "# converting to datetime object\n",
    "main['yelping_since'] = main['yelping_since'].apply(pd.to_datetime)"
   ]
  },
  {
   "cell_type": "code",
   "execution_count": 39,
   "metadata": {},
   "outputs": [],
   "source": [
    "# converting to datetime object\n",
    "main['date'] = main['date'].apply(pd.to_datetime)"
   ]
  },
  {
   "cell_type": "code",
   "execution_count": 40,
   "metadata": {},
   "outputs": [],
   "source": [
    "# calculating the review_user_age: \n",
    "# = the time the user wrote the review - the time the user joined yelp\n",
    "main['review_user_age'] = main['date'] - main['yelping_since']"
   ]
  },
  {
   "cell_type": "code",
   "execution_count": 44,
   "metadata": {},
   "outputs": [
    {
     "data": {
      "text/plain": [
       "0        1240 days 14:46:30\n",
       "1           0 days 00:18:26\n",
       "2        1048 days 01:27:56\n",
       "4        1116 days 11:46:23\n",
       "6        2354 days 18:14:23\n",
       "                ...        \n",
       "501311   1328 days 13:46:23\n",
       "501313   1777 days 15:28:43\n",
       "501315   2398 days 21:54:34\n",
       "501317    884 days 21:01:41\n",
       "501319   1118 days 16:16:56\n",
       "Name: review_user_age, Length: 263840, dtype: timedelta64[ns]"
      ]
     },
     "execution_count": 44,
     "metadata": {},
     "output_type": "execute_result"
    }
   ],
   "source": [
    "main['review_user_age']"
   ]
  },
  {
   "cell_type": "code",
   "execution_count": 48,
   "metadata": {},
   "outputs": [],
   "source": [
    "# extracting the days from the review_user_age as \n",
    "# user_lifespan, currently corresponding to each review\n",
    "main['review_user_lifespan'] = main['review_user_age'].dt.days"
   ]
  },
  {
   "cell_type": "code",
   "execution_count": 49,
   "metadata": {},
   "outputs": [
    {
     "data": {
      "text/plain": [
       "0         1240\n",
       "1            0\n",
       "2         1048\n",
       "4         1116\n",
       "6         2354\n",
       "          ... \n",
       "501311    1328\n",
       "501313    1777\n",
       "501315    2398\n",
       "501317     884\n",
       "501319    1118\n",
       "Name: review_user_lifespan, Length: 263840, dtype: int64"
      ]
     },
     "execution_count": 49,
     "metadata": {},
     "output_type": "execute_result"
    }
   ],
   "source": [
    "main['review_user_lifespan']"
   ]
  },
  {
   "cell_type": "code",
   "execution_count": 52,
   "metadata": {},
   "outputs": [],
   "source": [
    "# calculating the mean user_lifespan from the above, \n",
    "# grouping by each user's unique user_id\n",
    "# main['user_lifespan'] = main.groupby('user_id', as_index=False)['review_user_lifespan'].mean()"
   ]
  },
  {
   "cell_type": "code",
   "execution_count": 54,
   "metadata": {},
   "outputs": [],
   "source": [
    "# main['user_lifespan']"
   ]
  },
  {
   "cell_type": "code",
   "execution_count": 55,
   "metadata": {},
   "outputs": [],
   "source": [
    "# renaming columns for clarity & sanity\n",
    "main.rename(columns={'stars_x':'review_stars', 'stars_y':'business_rating', 'average_stars':'user_avg_rating', \\\n",
    "                     'name_x':'business_name', 'name_y':'user_name', \\\n",
    "                     'review_count_x':'business_review_count', 'review_count_y':'user_review_count', \\\n",
    "                     'attributes':'business_attributes', 'categories':'business_categories', \\\n",
    "                     'yelping_since':'user_yelping_since', 'text':'review_text', 'date':'review_date', \\\n",
    "                     'useful_x':'review_useful', 'useful_y':'user_useful', \\\n",
    "                     'funny_x':'review_funny', 'funny_y':'user_funny', \\\n",
    "                     'cool_x':'review_cool', 'cool_y':'user_cool', \\\n",
    "                    'fans':'user_fans', 'friends':'user_friends'}, inplace=True)"
   ]
  },
  {
   "cell_type": "code",
   "execution_count": 56,
   "metadata": {},
   "outputs": [],
   "source": [
    "# dropping columns about compliment attributes without enough description\n",
    "main.drop(columns=main.iloc[:, 29:40], inplace=True)"
   ]
  },
  {
   "cell_type": "code",
   "execution_count": 57,
   "metadata": {},
   "outputs": [
    {
     "data": {
      "text/plain": [
       "(263840, 32)"
      ]
     },
     "execution_count": 57,
     "metadata": {},
     "output_type": "execute_result"
    }
   ],
   "source": [
    "# checking the shape of the dataframe\n",
    "main.shape"
   ]
  },
  {
   "cell_type": "code",
   "execution_count": 58,
   "metadata": {},
   "outputs": [
    {
     "data": {
      "text/html": [
       "<div>\n",
       "<style scoped>\n",
       "    .dataframe tbody tr th:only-of-type {\n",
       "        vertical-align: middle;\n",
       "    }\n",
       "\n",
       "    .dataframe tbody tr th {\n",
       "        vertical-align: top;\n",
       "    }\n",
       "\n",
       "    .dataframe thead th {\n",
       "        text-align: right;\n",
       "    }\n",
       "</style>\n",
       "<table border=\"1\" class=\"dataframe\">\n",
       "  <thead>\n",
       "    <tr style=\"text-align: right;\">\n",
       "      <th></th>\n",
       "      <th>review_id</th>\n",
       "      <th>user_id</th>\n",
       "      <th>business_id</th>\n",
       "      <th>review_stars</th>\n",
       "      <th>review_useful</th>\n",
       "      <th>review_funny</th>\n",
       "      <th>review_cool</th>\n",
       "      <th>review_text</th>\n",
       "      <th>review_date</th>\n",
       "      <th>business_name</th>\n",
       "      <th>address</th>\n",
       "      <th>city</th>\n",
       "      <th>state</th>\n",
       "      <th>postal_code</th>\n",
       "      <th>latitude</th>\n",
       "      <th>longitude</th>\n",
       "      <th>business_rating</th>\n",
       "      <th>business_review_count</th>\n",
       "      <th>business_attributes</th>\n",
       "      <th>business_categories</th>\n",
       "      <th>user_name</th>\n",
       "      <th>user_review_count</th>\n",
       "      <th>user_yelping_since</th>\n",
       "      <th>user_useful</th>\n",
       "      <th>user_funny</th>\n",
       "      <th>user_cool</th>\n",
       "      <th>user_friends</th>\n",
       "      <th>user_fans</th>\n",
       "      <th>user_avg_rating</th>\n",
       "      <th>review_user_age</th>\n",
       "      <th>user_lifespan</th>\n",
       "      <th>review_user_lifespan</th>\n",
       "    </tr>\n",
       "  </thead>\n",
       "  <tbody>\n",
       "    <tr>\n",
       "      <th>0</th>\n",
       "      <td>TWhVfhK2LvLu8I_0yOzA-w</td>\n",
       "      <td>tcBOEF8KeCZ_sgMIaOWcww</td>\n",
       "      <td>_r-OvLO5wqncmsBCg3i0qw</td>\n",
       "      <td>5</td>\n",
       "      <td>0</td>\n",
       "      <td>0</td>\n",
       "      <td>0</td>\n",
       "      <td>this has been my boyfriend and mines absolute ...</td>\n",
       "      <td>2018-10-06 19:41:58</td>\n",
       "      <td>Pomo Pizzeria - Gilbert</td>\n",
       "      <td>366 N Gilbert Rd, Ste 106</td>\n",
       "      <td>Gilbert</td>\n",
       "      <td>AZ</td>\n",
       "      <td>85234</td>\n",
       "      <td>33.356514</td>\n",
       "      <td>-111.790061</td>\n",
       "      <td>3.5</td>\n",
       "      <td>418</td>\n",
       "      <td>{'OutdoorSeating': 'True', 'RestaurantsTableSe...</td>\n",
       "      <td>Restaurants, Pizza, Italian</td>\n",
       "      <td>Sami</td>\n",
       "      <td>2</td>\n",
       "      <td>2015-05-15 04:55:28</td>\n",
       "      <td>2</td>\n",
       "      <td>0</td>\n",
       "      <td>0</td>\n",
       "      <td>None</td>\n",
       "      <td>0</td>\n",
       "      <td>3.40</td>\n",
       "      <td>1240 days 14:46:30</td>\n",
       "      <td>NaN</td>\n",
       "      <td>1240</td>\n",
       "    </tr>\n",
       "    <tr>\n",
       "      <th>1</th>\n",
       "      <td>62OzqwbJcxEVb38-jM_kSA</td>\n",
       "      <td>WxEfKKXhGOwy13RokqSGvw</td>\n",
       "      <td>-av1lZI1JDY_RZN2eTMnWg</td>\n",
       "      <td>5</td>\n",
       "      <td>0</td>\n",
       "      <td>0</td>\n",
       "      <td>0</td>\n",
       "      <td>this is one of my favorite thai restaruant  th...</td>\n",
       "      <td>2014-05-27 03:11:36</td>\n",
       "      <td>Salad King Restaurant</td>\n",
       "      <td>340 Yonge Street</td>\n",
       "      <td>Toronto</td>\n",
       "      <td>ON</td>\n",
       "      <td>M5B 1R8</td>\n",
       "      <td>43.657648</td>\n",
       "      <td>-79.381728</td>\n",
       "      <td>3.5</td>\n",
       "      <td>948</td>\n",
       "      <td>{'HasTV': 'False', 'RestaurantsTakeOut': 'True...</td>\n",
       "      <td>Thai, Restaurants</td>\n",
       "      <td>Jenny</td>\n",
       "      <td>12</td>\n",
       "      <td>2014-05-27 02:53:10</td>\n",
       "      <td>1</td>\n",
       "      <td>1</td>\n",
       "      <td>0</td>\n",
       "      <td>i6ZDJFeypkj6kCvSFjMbyg</td>\n",
       "      <td>0</td>\n",
       "      <td>3.93</td>\n",
       "      <td>0 days 00:18:26</td>\n",
       "      <td>NaN</td>\n",
       "      <td>0</td>\n",
       "    </tr>\n",
       "    <tr>\n",
       "      <th>2</th>\n",
       "      <td>1uUp7SatdBbnubccwNNWig</td>\n",
       "      <td>V_fAi3s5pHoecneF_s199Q</td>\n",
       "      <td>3BvoqrkBhqnrCeSnuZY-9w</td>\n",
       "      <td>5</td>\n",
       "      <td>0</td>\n",
       "      <td>0</td>\n",
       "      <td>0</td>\n",
       "      <td>this is my favorite pts i live much closer to ...</td>\n",
       "      <td>2019-04-27 04:46:30</td>\n",
       "      <td>Pt's Gold</td>\n",
       "      <td>10075 S Eastern Ave</td>\n",
       "      <td>Henderson</td>\n",
       "      <td>NV</td>\n",
       "      <td>89052</td>\n",
       "      <td>36.005099</td>\n",
       "      <td>-115.112716</td>\n",
       "      <td>3.0</td>\n",
       "      <td>70</td>\n",
       "      <td>{'RestaurantsTakeOut': 'True', 'BikeParking': ...</td>\n",
       "      <td>American (Traditional), Nightlife, Bars, Sport...</td>\n",
       "      <td>Charity</td>\n",
       "      <td>4</td>\n",
       "      <td>2016-06-13 03:18:34</td>\n",
       "      <td>0</td>\n",
       "      <td>0</td>\n",
       "      <td>0</td>\n",
       "      <td>None</td>\n",
       "      <td>0</td>\n",
       "      <td>4.20</td>\n",
       "      <td>1048 days 01:27:56</td>\n",
       "      <td>NaN</td>\n",
       "      <td>1048</td>\n",
       "    </tr>\n",
       "    <tr>\n",
       "      <th>4</th>\n",
       "      <td>ibkd8ceZcouF_vGVkX-7Vw</td>\n",
       "      <td>IkNg0F3M5KKCVn5ioXbztg</td>\n",
       "      <td>4vDffQ7eSQ7n39cyroOSKQ</td>\n",
       "      <td>5</td>\n",
       "      <td>0</td>\n",
       "      <td>0</td>\n",
       "      <td>0</td>\n",
       "      <td>loved the atmosphere and enjoyed my evening he...</td>\n",
       "      <td>2017-11-24 00:51:53</td>\n",
       "      <td>Crave Dessert Bar</td>\n",
       "      <td>500 W 5th St, Ste 120</td>\n",
       "      <td>Charlotte</td>\n",
       "      <td>NC</td>\n",
       "      <td>28202</td>\n",
       "      <td>35.231755</td>\n",
       "      <td>-80.845693</td>\n",
       "      <td>3.5</td>\n",
       "      <td>535</td>\n",
       "      <td>{'RestaurantsTakeOut': 'True', 'RestaurantsAtt...</td>\n",
       "      <td>Hookah Bars, Restaurants, Nightlife, Bars, Lou...</td>\n",
       "      <td>Lynda</td>\n",
       "      <td>10</td>\n",
       "      <td>2014-11-03 13:05:30</td>\n",
       "      <td>2</td>\n",
       "      <td>2</td>\n",
       "      <td>0</td>\n",
       "      <td>None</td>\n",
       "      <td>1</td>\n",
       "      <td>4.00</td>\n",
       "      <td>1116 days 11:46:23</td>\n",
       "      <td>NaN</td>\n",
       "      <td>1116</td>\n",
       "    </tr>\n",
       "    <tr>\n",
       "      <th>6</th>\n",
       "      <td>lRuRyC5B8yyUNq5zOKYCdg</td>\n",
       "      <td>Q_K5dfSQgK7t-ajI3tjk4A</td>\n",
       "      <td>4dWhd2lHIELpI0XTvs8_8A</td>\n",
       "      <td>1</td>\n",
       "      <td>0</td>\n",
       "      <td>0</td>\n",
       "      <td>0</td>\n",
       "      <td>stopped in for sunday brunch   busier than nor...</td>\n",
       "      <td>2019-09-17 10:59:36</td>\n",
       "      <td>Element 41</td>\n",
       "      <td>141 Main St</td>\n",
       "      <td>Chardon</td>\n",
       "      <td>OH</td>\n",
       "      <td>44024</td>\n",
       "      <td>41.581839</td>\n",
       "      <td>-81.204172</td>\n",
       "      <td>4.0</td>\n",
       "      <td>35</td>\n",
       "      <td>{'RestaurantsReservations': 'True', 'WiFi': \"'...</td>\n",
       "      <td>Nightlife, Bars, Local Flavor, American (New),...</td>\n",
       "      <td>Andrew</td>\n",
       "      <td>30</td>\n",
       "      <td>2013-04-06 16:45:13</td>\n",
       "      <td>21</td>\n",
       "      <td>5</td>\n",
       "      <td>6</td>\n",
       "      <td>RvaNCv4vdJEkBfNIWqxV5Q, FYyKa8nB1oD_XWK5n2dpCw...</td>\n",
       "      <td>0</td>\n",
       "      <td>3.41</td>\n",
       "      <td>2354 days 18:14:23</td>\n",
       "      <td>NaN</td>\n",
       "      <td>2354</td>\n",
       "    </tr>\n",
       "  </tbody>\n",
       "</table>\n",
       "</div>"
      ],
      "text/plain": [
       "                review_id                 user_id             business_id  \\\n",
       "0  TWhVfhK2LvLu8I_0yOzA-w  tcBOEF8KeCZ_sgMIaOWcww  _r-OvLO5wqncmsBCg3i0qw   \n",
       "1  62OzqwbJcxEVb38-jM_kSA  WxEfKKXhGOwy13RokqSGvw  -av1lZI1JDY_RZN2eTMnWg   \n",
       "2  1uUp7SatdBbnubccwNNWig  V_fAi3s5pHoecneF_s199Q  3BvoqrkBhqnrCeSnuZY-9w   \n",
       "4  ibkd8ceZcouF_vGVkX-7Vw  IkNg0F3M5KKCVn5ioXbztg  4vDffQ7eSQ7n39cyroOSKQ   \n",
       "6  lRuRyC5B8yyUNq5zOKYCdg  Q_K5dfSQgK7t-ajI3tjk4A  4dWhd2lHIELpI0XTvs8_8A   \n",
       "\n",
       "   review_stars  review_useful  review_funny  review_cool  \\\n",
       "0             5              0             0            0   \n",
       "1             5              0             0            0   \n",
       "2             5              0             0            0   \n",
       "4             5              0             0            0   \n",
       "6             1              0             0            0   \n",
       "\n",
       "                                         review_text         review_date  \\\n",
       "0  this has been my boyfriend and mines absolute ... 2018-10-06 19:41:58   \n",
       "1  this is one of my favorite thai restaruant  th... 2014-05-27 03:11:36   \n",
       "2  this is my favorite pts i live much closer to ... 2019-04-27 04:46:30   \n",
       "4  loved the atmosphere and enjoyed my evening he... 2017-11-24 00:51:53   \n",
       "6  stopped in for sunday brunch   busier than nor... 2019-09-17 10:59:36   \n",
       "\n",
       "             business_name                    address       city state  \\\n",
       "0  Pomo Pizzeria - Gilbert  366 N Gilbert Rd, Ste 106    Gilbert    AZ   \n",
       "1    Salad King Restaurant           340 Yonge Street    Toronto    ON   \n",
       "2                Pt's Gold        10075 S Eastern Ave  Henderson    NV   \n",
       "4        Crave Dessert Bar      500 W 5th St, Ste 120  Charlotte    NC   \n",
       "6               Element 41                141 Main St    Chardon    OH   \n",
       "\n",
       "  postal_code   latitude   longitude  business_rating  business_review_count  \\\n",
       "0       85234  33.356514 -111.790061              3.5                    418   \n",
       "1     M5B 1R8  43.657648  -79.381728              3.5                    948   \n",
       "2       89052  36.005099 -115.112716              3.0                     70   \n",
       "4       28202  35.231755  -80.845693              3.5                    535   \n",
       "6       44024  41.581839  -81.204172              4.0                     35   \n",
       "\n",
       "                                 business_attributes  \\\n",
       "0  {'OutdoorSeating': 'True', 'RestaurantsTableSe...   \n",
       "1  {'HasTV': 'False', 'RestaurantsTakeOut': 'True...   \n",
       "2  {'RestaurantsTakeOut': 'True', 'BikeParking': ...   \n",
       "4  {'RestaurantsTakeOut': 'True', 'RestaurantsAtt...   \n",
       "6  {'RestaurantsReservations': 'True', 'WiFi': \"'...   \n",
       "\n",
       "                                 business_categories user_name  \\\n",
       "0                        Restaurants, Pizza, Italian      Sami   \n",
       "1                                  Thai, Restaurants     Jenny   \n",
       "2  American (Traditional), Nightlife, Bars, Sport...   Charity   \n",
       "4  Hookah Bars, Restaurants, Nightlife, Bars, Lou...     Lynda   \n",
       "6  Nightlife, Bars, Local Flavor, American (New),...    Andrew   \n",
       "\n",
       "   user_review_count  user_yelping_since  user_useful  user_funny  user_cool  \\\n",
       "0                  2 2015-05-15 04:55:28            2           0          0   \n",
       "1                 12 2014-05-27 02:53:10            1           1          0   \n",
       "2                  4 2016-06-13 03:18:34            0           0          0   \n",
       "4                 10 2014-11-03 13:05:30            2           2          0   \n",
       "6                 30 2013-04-06 16:45:13           21           5          6   \n",
       "\n",
       "                                        user_friends  user_fans  \\\n",
       "0                                               None          0   \n",
       "1                             i6ZDJFeypkj6kCvSFjMbyg          0   \n",
       "2                                               None          0   \n",
       "4                                               None          1   \n",
       "6  RvaNCv4vdJEkBfNIWqxV5Q, FYyKa8nB1oD_XWK5n2dpCw...          0   \n",
       "\n",
       "   user_avg_rating    review_user_age  user_lifespan  review_user_lifespan  \n",
       "0             3.40 1240 days 14:46:30            NaN                  1240  \n",
       "1             3.93    0 days 00:18:26            NaN                     0  \n",
       "2             4.20 1048 days 01:27:56            NaN                  1048  \n",
       "4             4.00 1116 days 11:46:23            NaN                  1116  \n",
       "6             3.41 2354 days 18:14:23            NaN                  2354  "
      ]
     },
     "execution_count": 58,
     "metadata": {},
     "output_type": "execute_result"
    }
   ],
   "source": [
    "main.head()"
   ]
  },
  {
   "cell_type": "markdown",
   "metadata": {},
   "source": [
    "## Data Sampling:\n",
    "\n",
    "We will now take a representative sample of the dataframe we have cleaned and prepared for our next steps of preprocessing & exploratory analysis.\n",
    "\n",
    "I will also be saving these as .csv files to the Sagemaker Instance for use later on in the analysis."
   ]
  },
  {
   "cell_type": "code",
   "execution_count": 70,
   "metadata": {},
   "outputs": [],
   "source": [
    "# taking a representative sample for only 10,000 rows in the csv file (frac value calculated as 10,000/263840)\n",
    "# with all corresponding datapoints for that particular review \n",
    "yelp_df = main.sample(frac=0.03790176, random_state=11)"
   ]
  },
  {
   "cell_type": "code",
   "execution_count": 71,
   "metadata": {},
   "outputs": [],
   "source": [
    "# exporting the sample as a .csv\n",
    "yelp_df.to_csv('sample_yelp_df.csv')"
   ]
  },
  {
   "cell_type": "code",
   "execution_count": 72,
   "metadata": {},
   "outputs": [],
   "source": [
    "# defining a function to select columns and create separate dataframes\n",
    "def select_columns(data_frame, column_names):\n",
    "    new_frame = data_frame[column_names].copy()\n",
    "    return new_frame"
   ]
  },
  {
   "cell_type": "code",
   "execution_count": 73,
   "metadata": {},
   "outputs": [],
   "source": [
    "# defining lists to select these columns \n",
    "# into the dataframes specified in the next cell\n",
    "loc_col = ['business_id','business_name','city','state','postal_code','address','latitude','longitude']\n",
    "review_col = ['review_id','review_date','review_text','review_stars','review_useful','review_funny','review_cool','review_user_age']\n",
    "bus_col = ['business_id','business_name','business_rating','business_review_count','business_attributes','business_categories']\n",
    "user_col = ['user_id','user_name','user_avg_rating','user_review_count','user_yelping_since','user_lifespan']\n",
    "social_col = ['user_id','user_name','user_lifespan','user_friends','user_fans','user_useful','user_funny','user_cool']"
   ]
  },
  {
   "cell_type": "code",
   "execution_count": 74,
   "metadata": {},
   "outputs": [],
   "source": [
    "# creating dataframes using the function created and the list of columns\n",
    "location = select_columns(yelp_df, loc_col)\n",
    "review = select_columns(yelp_df, review_col)\n",
    "business = select_columns(yelp_df, bus_col)\n",
    "user = select_columns(yelp_df, user_col)\n",
    "social = select_columns(yelp_df, social_col)"
   ]
  },
  {
   "cell_type": "code",
   "execution_count": 75,
   "metadata": {},
   "outputs": [],
   "source": [
    "# this is breaking the kernel but would be useful \n",
    "# to count the number of friends users have as a metric of social engagement\n",
    "# social['user_friend_count'] = social['user_friends'].str.split(', ').str.len()"
   ]
  },
  {
   "cell_type": "code",
   "execution_count": 76,
   "metadata": {},
   "outputs": [],
   "source": [
    "# exporting all the data as csv files \n",
    "# to save to Sagemaker Notebook Instance for future use\n",
    "location.to_csv('sample_location.csv')\n",
    "review.to_csv('sample_review.csv')\n",
    "business.to_csv('sample_business.csv')\n",
    "user.to_csv('sample_user.csv')\n",
    "social.to_csv('sample_social.csv')"
   ]
  },
  {
   "cell_type": "code",
   "execution_count": 77,
   "metadata": {},
   "outputs": [
    {
     "data": {
      "text/plain": [
       "0"
      ]
     },
     "execution_count": 77,
     "metadata": {},
     "output_type": "execute_result"
    }
   ],
   "source": [
    "# confirming no missing values in text \n",
    "yelp_df['review_text'].isna().sum()"
   ]
  },
  {
   "cell_type": "markdown",
   "metadata": {},
   "source": [
    "We can now use these sample dataframes, to analyze the text data contained in the reviews using preprocessing steps for our vectorizer & instantiating, fitting and transforming a classification model, to identify the overall sentiment the words are indicative of.\n",
    "\n",
    "-----------------------------------------------------------------------"
   ]
  }
 ],
 "metadata": {
  "kernelspec": {
   "display_name": "conda_python3",
   "language": "python",
   "name": "conda_python3"
  },
  "language_info": {
   "codemirror_mode": {
    "name": "ipython",
    "version": 3
   },
   "file_extension": ".py",
   "mimetype": "text/x-python",
   "name": "python",
   "nbconvert_exporter": "python",
   "pygments_lexer": "ipython3",
   "version": "3.6.10"
  }
 },
 "nbformat": 4,
 "nbformat_minor": 4
}
